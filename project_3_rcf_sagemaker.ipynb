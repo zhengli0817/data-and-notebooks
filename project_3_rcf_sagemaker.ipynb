{
 "cells": [
  {
   "cell_type": "code",
   "execution_count": 1,
   "metadata": {},
   "outputs": [
    {
     "name": "stdout",
     "output_type": "stream",
     "text": [
      "Training input/output will be stored in: s3://sagemaker-us-east-2-602665643546/sagemaker/rcf-benchmarks\n"
     ]
    }
   ],
   "source": [
    "import boto3\n",
    "import botocore\n",
    "import sagemaker\n",
    "import sys\n",
    "\n",
    "\n",
    "bucket = sagemaker.Session().default_bucket()   # Feel free to change to another bucket you have access to\n",
    "prefix = 'sagemaker/rcf-benchmarks'\n",
    "execution_role = sagemaker.get_execution_role()\n",
    "\n",
    "\n",
    "# check if the bucket exists\n",
    "try:\n",
    "    boto3.Session().client('s3').head_bucket(Bucket=bucket)\n",
    "except botocore.exceptions.ParamValidationError as e:\n",
    "    print('Hey! You either forgot to specify your S3 bucket'\n",
    "          ' or you gave your bucket an invalid name!')\n",
    "except botocore.exceptions.ClientError as e:\n",
    "    if e.response['Error']['Code'] == '403':\n",
    "        print(\"Hey! You don't have permission to access the bucket, {}.\".format(bucket))\n",
    "    elif e.response['Error']['Code'] == '404':\n",
    "        print(\"Hey! Your bucket, {}, doesn't exist!\".format(bucket))\n",
    "    else:\n",
    "        raise\n",
    "else:\n",
    "    print('Training input/output will be stored in: s3://{}/{}'.format(bucket, prefix))"
   ]
  },
  {
   "cell_type": "code",
   "execution_count": 2,
   "metadata": {},
   "outputs": [
    {
     "name": "stdout",
     "output_type": "stream",
     "text": [
      "CPU times: user 531 ms, sys: 67.1 ms, total: 598 ms\n",
      "Wall time: 1.3 s\n"
     ]
    }
   ],
   "source": [
    "%%time\n",
    "\n",
    "import numpy as np\n",
    "import pandas as pd\n",
    "import urllib.request\n",
    "\n",
    "%matplotlib inline\n",
    "\n",
    "import matplotlib\n",
    "import matplotlib.pyplot as plt\n",
    "\n",
    "from sklearn.metrics import roc_auc_score"
   ]
  },
  {
   "cell_type": "code",
   "execution_count": 3,
   "metadata": {},
   "outputs": [],
   "source": [
    "txn_data = pd.read_csv('data/project_3_transactions_110k.csv')"
   ]
  },
  {
   "cell_type": "code",
   "execution_count": 4,
   "metadata": {},
   "outputs": [
    {
     "data": {
      "text/html": [
       "<div>\n",
       "<style scoped>\n",
       "    .dataframe tbody tr th:only-of-type {\n",
       "        vertical-align: middle;\n",
       "    }\n",
       "\n",
       "    .dataframe tbody tr th {\n",
       "        vertical-align: top;\n",
       "    }\n",
       "\n",
       "    .dataframe thead th {\n",
       "        text-align: right;\n",
       "    }\n",
       "</style>\n",
       "<table border=\"1\" class=\"dataframe\">\n",
       "  <thead>\n",
       "    <tr style=\"text-align: right;\">\n",
       "      <th></th>\n",
       "      <th>registration_days</th>\n",
       "      <th>recency_days</th>\n",
       "      <th>visit_count</th>\n",
       "      <th>spend_amt</th>\n",
       "      <th>spend_adj_amt</th>\n",
       "      <th>ip_address</th>\n",
       "      <th>email_domain</th>\n",
       "      <th>billing_city</th>\n",
       "      <th>billing_postal</th>\n",
       "      <th>billing_state</th>\n",
       "      <th>txn_code</th>\n",
       "      <th>event_code</th>\n",
       "      <th>EVENT_TIMESTAMP</th>\n",
       "      <th>customer_name</th>\n",
       "      <th>billing_address</th>\n",
       "      <th>EVENT_LABEL</th>\n",
       "    </tr>\n",
       "  </thead>\n",
       "  <tbody>\n",
       "    <tr>\n",
       "      <th>0</th>\n",
       "      <td>338.0</td>\n",
       "      <td>192.0</td>\n",
       "      <td>63.0</td>\n",
       "      <td>499.0</td>\n",
       "      <td>40.0</td>\n",
       "      <td>172.10.245.102</td>\n",
       "      <td>gonzalez.info</td>\n",
       "      <td>Hamiltonborough</td>\n",
       "      <td>63709</td>\n",
       "      <td>Kansas</td>\n",
       "      <td>W</td>\n",
       "      <td>Y</td>\n",
       "      <td>2020-03-29 20:57:21</td>\n",
       "      <td>Melissa Alvarez</td>\n",
       "      <td>3253 Kristin Harbor</td>\n",
       "      <td>legit</td>\n",
       "    </tr>\n",
       "    <tr>\n",
       "      <th>1</th>\n",
       "      <td>338.0</td>\n",
       "      <td>238.0</td>\n",
       "      <td>54.0</td>\n",
       "      <td>415.0</td>\n",
       "      <td>62.0</td>\n",
       "      <td>17.194.197.82</td>\n",
       "      <td>brooks.biz</td>\n",
       "      <td>Patrickchester</td>\n",
       "      <td>47923</td>\n",
       "      <td>North Dakota</td>\n",
       "      <td>X</td>\n",
       "      <td>T</td>\n",
       "      <td>2019-12-15 00:37:10</td>\n",
       "      <td>Cody Fowler</td>\n",
       "      <td>9068 Brandy Drive</td>\n",
       "      <td>fraud</td>\n",
       "    </tr>\n",
       "    <tr>\n",
       "      <th>2</th>\n",
       "      <td>354.0</td>\n",
       "      <td>151.0</td>\n",
       "      <td>47.0</td>\n",
       "      <td>639.0</td>\n",
       "      <td>41.0</td>\n",
       "      <td>196.15.82.180</td>\n",
       "      <td>smith-aguirre.com</td>\n",
       "      <td>West Ethanmouth</td>\n",
       "      <td>2548</td>\n",
       "      <td>Wyoming</td>\n",
       "      <td>L</td>\n",
       "      <td>B</td>\n",
       "      <td>2020-05-20 08:36:14</td>\n",
       "      <td>Stephanie Martin</td>\n",
       "      <td>9245 Thomas Estates</td>\n",
       "      <td>legit</td>\n",
       "    </tr>\n",
       "    <tr>\n",
       "      <th>3</th>\n",
       "      <td>351.0</td>\n",
       "      <td>151.0</td>\n",
       "      <td>53.0</td>\n",
       "      <td>698.0</td>\n",
       "      <td>33.0</td>\n",
       "      <td>155.109.172.212</td>\n",
       "      <td>kelly-jones.com</td>\n",
       "      <td>West Sarahfort</td>\n",
       "      <td>85278</td>\n",
       "      <td>West Virginia</td>\n",
       "      <td>U</td>\n",
       "      <td>Y</td>\n",
       "      <td>2020-05-10 11:57:32</td>\n",
       "      <td>Kimberly Anderson</td>\n",
       "      <td>7257 Stephanie Cliffs</td>\n",
       "      <td>legit</td>\n",
       "    </tr>\n",
       "    <tr>\n",
       "      <th>4</th>\n",
       "      <td>403.0</td>\n",
       "      <td>156.0</td>\n",
       "      <td>47.0</td>\n",
       "      <td>651.0</td>\n",
       "      <td>44.0</td>\n",
       "      <td>38.144.137.29</td>\n",
       "      <td>hamilton.biz</td>\n",
       "      <td>New Rhondaland</td>\n",
       "      <td>17058</td>\n",
       "      <td>Nebraska</td>\n",
       "      <td>T</td>\n",
       "      <td>R</td>\n",
       "      <td>2020-01-23 21:15:47</td>\n",
       "      <td>Jacqueline Smith</td>\n",
       "      <td>40977 Marissa Gateway Apt. 992</td>\n",
       "      <td>legit</td>\n",
       "    </tr>\n",
       "  </tbody>\n",
       "</table>\n",
       "</div>"
      ],
      "text/plain": [
       "   registration_days  recency_days  visit_count  spend_amt  spend_adj_amt  \\\n",
       "0              338.0         192.0         63.0      499.0           40.0   \n",
       "1              338.0         238.0         54.0      415.0           62.0   \n",
       "2              354.0         151.0         47.0      639.0           41.0   \n",
       "3              351.0         151.0         53.0      698.0           33.0   \n",
       "4              403.0         156.0         47.0      651.0           44.0   \n",
       "\n",
       "        ip_address       email_domain     billing_city  billing_postal  \\\n",
       "0   172.10.245.102      gonzalez.info  Hamiltonborough           63709   \n",
       "1    17.194.197.82         brooks.biz   Patrickchester           47923   \n",
       "2    196.15.82.180  smith-aguirre.com  West Ethanmouth            2548   \n",
       "3  155.109.172.212    kelly-jones.com   West Sarahfort           85278   \n",
       "4    38.144.137.29       hamilton.biz   New Rhondaland           17058   \n",
       "\n",
       "   billing_state txn_code event_code      EVENT_TIMESTAMP      customer_name  \\\n",
       "0         Kansas        W          Y  2020-03-29 20:57:21    Melissa Alvarez   \n",
       "1   North Dakota        X          T  2019-12-15 00:37:10        Cody Fowler   \n",
       "2        Wyoming        L          B  2020-05-20 08:36:14   Stephanie Martin   \n",
       "3  West Virginia        U          Y  2020-05-10 11:57:32  Kimberly Anderson   \n",
       "4       Nebraska        T          R  2020-01-23 21:15:47   Jacqueline Smith   \n",
       "\n",
       "                  billing_address EVENT_LABEL  \n",
       "0             3253 Kristin Harbor       legit  \n",
       "1               9068 Brandy Drive       fraud  \n",
       "2             9245 Thomas Estates       legit  \n",
       "3           7257 Stephanie Cliffs       legit  \n",
       "4  40977 Marissa Gateway Apt. 992       legit  "
      ]
     },
     "execution_count": 4,
     "metadata": {},
     "output_type": "execute_result"
    }
   ],
   "source": [
    "txn_data.head()"
   ]
  },
  {
   "cell_type": "code",
   "execution_count": 5,
   "metadata": {},
   "outputs": [
    {
     "name": "stdout",
     "output_type": "stream",
     "text": [
      "<class 'pandas.core.frame.DataFrame'>\n",
      "RangeIndex: 110000 entries, 0 to 109999\n",
      "Data columns (total 16 columns):\n",
      " #   Column             Non-Null Count   Dtype  \n",
      "---  ------             --------------   -----  \n",
      " 0   registration_days  110000 non-null  float64\n",
      " 1   recency_days       110000 non-null  float64\n",
      " 2   visit_count        110000 non-null  float64\n",
      " 3   spend_amt          110000 non-null  float64\n",
      " 4   spend_adj_amt      110000 non-null  float64\n",
      " 5   ip_address         110000 non-null  object \n",
      " 6   email_domain       110000 non-null  object \n",
      " 7   billing_city       110000 non-null  object \n",
      " 8   billing_postal     110000 non-null  int64  \n",
      " 9   billing_state      110000 non-null  object \n",
      " 10  txn_code           110000 non-null  object \n",
      " 11  event_code         110000 non-null  object \n",
      " 12  EVENT_TIMESTAMP    110000 non-null  object \n",
      " 13  customer_name      110000 non-null  object \n",
      " 14  billing_address    110000 non-null  object \n",
      " 15  EVENT_LABEL        110000 non-null  object \n",
      "dtypes: float64(5), int64(1), object(10)\n",
      "memory usage: 13.4+ MB\n"
     ]
    }
   ],
   "source": [
    "txn_data.info()"
   ]
  },
  {
   "cell_type": "code",
   "execution_count": 6,
   "metadata": {},
   "outputs": [
    {
     "data": {
      "text/plain": [
       "legit    0.949509\n",
       "fraud    0.050491\n",
       "Name: EVENT_LABEL, dtype: float64"
      ]
     },
     "execution_count": 6,
     "metadata": {},
     "output_type": "execute_result"
    }
   ],
   "source": [
    "txn_data['EVENT_LABEL'].value_counts(normalize=True)"
   ]
  },
  {
   "cell_type": "code",
   "execution_count": 7,
   "metadata": {},
   "outputs": [],
   "source": [
    "numeric_features = ['registration_days', 'recency_days', 'visit_count', 'spend_amt', 'spend_adj_amt']"
   ]
  },
  {
   "cell_type": "code",
   "execution_count": 8,
   "metadata": {},
   "outputs": [],
   "source": [
    "from sklearn.model_selection import train_test_split\n",
    "\n",
    "txn_data_train, txn_data_test = train_test_split(txn_data[numeric_features+['EVENT_LABEL']], test_size=0.2, random_state=42)"
   ]
  },
  {
   "cell_type": "code",
   "execution_count": 9,
   "metadata": {},
   "outputs": [
    {
     "data": {
      "text/plain": [
       "(legit    0.949807\n",
       " fraud    0.050193\n",
       " Name: EVENT_LABEL, dtype: float64,\n",
       " legit    0.948318\n",
       " fraud    0.051682\n",
       " Name: EVENT_LABEL, dtype: float64)"
      ]
     },
     "execution_count": 9,
     "metadata": {},
     "output_type": "execute_result"
    }
   ],
   "source": [
    "txn_data_train['EVENT_LABEL'].value_counts(normalize=True), txn_data_test['EVENT_LABEL'].value_counts(normalize=True)"
   ]
  },
  {
   "cell_type": "code",
   "execution_count": 10,
   "metadata": {},
   "outputs": [],
   "source": [
    "txn_data_train_numpy = txn_data_train[numeric_features].values\n",
    "txn_data_test_numpy = txn_data_test[numeric_features].values"
   ]
  },
  {
   "cell_type": "code",
   "execution_count": 11,
   "metadata": {},
   "outputs": [],
   "source": [
    "y_true_train = txn_data_train['EVENT_LABEL'].map({'legit':0, 'fraud':1})\n",
    "y_true_test = txn_data_test['EVENT_LABEL'].map({'legit':0, 'fraud':1})"
   ]
  },
  {
   "cell_type": "code",
   "execution_count": 12,
   "metadata": {},
   "outputs": [],
   "source": [
    "# Set tree parameters\n",
    "num_trees = 200\n",
    "tree_size = 1000"
   ]
  },
  {
   "cell_type": "code",
   "execution_count": 13,
   "metadata": {},
   "outputs": [
    {
     "name": "stderr",
     "output_type": "stream",
     "text": [
      "'get_image_uri' method will be deprecated in favor of 'ImageURIProvider' class in SageMaker Python SDK v2.\n",
      "'s3_input' class will be renamed to 'TrainingInput' in SageMaker Python SDK v2.\n",
      "'get_image_uri' method will be deprecated in favor of 'ImageURIProvider' class in SageMaker Python SDK v2.\n"
     ]
    },
    {
     "name": "stdout",
     "output_type": "stream",
     "text": [
      "2020-11-09 20:40:13 Starting - Starting the training job...\n",
      "2020-11-09 20:40:15 Starting - Launching requested ML instances......\n",
      "2020-11-09 20:41:39 Starting - Preparing the instances for training......\n",
      "2020-11-09 20:42:43 Downloading - Downloading input data\n",
      "2020-11-09 20:42:43 Training - Downloading the training image.....\u001b[34mDocker entrypoint called with argument(s): train\u001b[0m\n",
      "\u001b[34mRunning default environment configuration script\u001b[0m\n",
      "\u001b[34m/opt/amazon/lib/python2.7/site-packages/scipy/_lib/_numpy_compat.py:10: DeprecationWarning: Importing from numpy.testing.nosetester is deprecated, import from numpy.testing instead.\n",
      "  from numpy.testing.nosetester import import_nose\u001b[0m\n",
      "\u001b[34m/opt/amazon/lib/python2.7/site-packages/scipy/stats/morestats.py:12: DeprecationWarning: Importing from numpy.testing.decorators is deprecated, import from numpy.testing instead.\n",
      "  from numpy.testing.decorators import setastest\u001b[0m\n",
      "\u001b[34m[11/09/2020 20:43:21 INFO 140519099184960] Reading default configuration from /opt/amazon/lib/python2.7/site-packages/algorithm/resources/default-conf.json: {u'_ftp_port': 8999, u'num_samples_per_tree': 256, u'_tuning_objective_metric': u'', u'_num_gpus': u'auto', u'_log_level': u'info', u'_kvstore': u'dist_async', u'force_dense': u'true', u'epochs': 1, u'num_trees': 100, u'eval_metrics': [u'accuracy', u'precision_recall_fscore'], u'_num_kv_servers': u'auto', u'mini_batch_size': 1000}\u001b[0m\n",
      "\u001b[34m[11/09/2020 20:43:21 INFO 140519099184960] Merging with provided configuration from /opt/ml/input/config/hyperparameters.json: {u'mini_batch_size': u'1000', u'feature_dim': u'5', u'num_samples_per_tree': u'1000', u'num_trees': u'200'}\u001b[0m\n",
      "\u001b[34m[11/09/2020 20:43:21 INFO 140519099184960] Final configuration: {u'_ftp_port': 8999, u'num_samples_per_tree': u'1000', u'_tuning_objective_metric': u'', u'_num_gpus': u'auto', u'_log_level': u'info', u'_kvstore': u'dist_async', u'force_dense': u'true', u'epochs': 1, u'feature_dim': u'5', u'num_trees': u'200', u'eval_metrics': [u'accuracy', u'precision_recall_fscore'], u'_num_kv_servers': u'auto', u'mini_batch_size': u'1000'}\u001b[0m\n",
      "\u001b[34m[11/09/2020 20:43:21 WARNING 140519099184960] Loggers have already been setup.\u001b[0m\n",
      "\u001b[34m[11/09/2020 20:43:21 INFO 140519099184960] Launching parameter server for role scheduler\u001b[0m\n",
      "\u001b[34m[11/09/2020 20:43:21 INFO 140519099184960] {'ECS_CONTAINER_METADATA_URI': 'http://169.254.170.2/v3/c2daff37-de98-4114-89f8-3c0e6d66c91a', 'ECS_CONTAINER_METADATA_URI_V4': 'http://169.254.170.2/v4/c2daff37-de98-4114-89f8-3c0e6d66c91a', 'PROTOCOL_BUFFERS_PYTHON_IMPLEMENTATION_VERSION': '2', 'PATH': '/opt/amazon/bin:/usr/local/nvidia/bin:/usr/local/sbin:/usr/local/bin:/usr/sbin:/usr/bin:/sbin:/bin:/opt/amazon/bin:/opt/amazon/bin', 'SAGEMAKER_HTTP_PORT': '8080', 'HOME': '/root', 'PYTHONUNBUFFERED': 'TRUE', 'CANONICAL_ENVROOT': '/opt/amazon', 'LD_LIBRARY_PATH': '/opt/amazon/lib/python2.7/site-packages/cv2/../../../../lib:/usr/local/nvidia/lib64:/opt/amazon/lib', 'MXNET_KVSTORE_BIGARRAY_BOUND': '400000000', 'LANG': 'en_US.utf8', 'DMLC_INTERFACE': 'eth0', 'SHLVL': '1', 'AWS_REGION': 'us-east-2', 'SAGEMAKER_METRICS_DIRECTORY': '/opt/ml/output/metrics/sagemaker', 'NVIDIA_VISIBLE_DEVICES': 'void', 'TRAINING_JOB_NAME': 'randomcutforest-2020-11-09-20-40-13-188', 'PROTOCOL_BUFFERS_PYTHON_IMPLEMENTATION': 'cpp', 'ENVROOT': '/opt/amazon', 'SAGEMAKER_DATA_PATH': '/opt/ml', 'NVIDIA_DRIVER_CAPABILITIES': 'compute,utility', 'NVIDIA_REQUIRE_CUDA': 'cuda>=9.0', 'OMP_NUM_THREADS': '2', 'HOSTNAME': 'ip-10-0-218-100.us-east-2.compute.internal', 'AWS_CONTAINER_CREDENTIALS_RELATIVE_URI': '/v2/credentials/48b1020b-1901-48e1-b05f-25db92d6a5f0', 'PWD': '/', 'TRAINING_JOB_ARN': 'arn:aws:sagemaker:us-east-2:602665643546:training-job/randomcutforest-2020-11-09-20-40-13-188', 'AWS_EXECUTION_ENV': 'AWS_ECS_EC2'}\u001b[0m\n",
      "\u001b[34m[11/09/2020 20:43:21 INFO 140519099184960] envs={'ECS_CONTAINER_METADATA_URI': 'http://169.254.170.2/v3/c2daff37-de98-4114-89f8-3c0e6d66c91a', 'ECS_CONTAINER_METADATA_URI_V4': 'http://169.254.170.2/v4/c2daff37-de98-4114-89f8-3c0e6d66c91a', 'PROTOCOL_BUFFERS_PYTHON_IMPLEMENTATION_VERSION': '2', 'DMLC_NUM_WORKER': '1', 'DMLC_PS_ROOT_PORT': '9000', 'PATH': '/opt/amazon/bin:/usr/local/nvidia/bin:/usr/local/sbin:/usr/local/bin:/usr/sbin:/usr/bin:/sbin:/bin:/opt/amazon/bin:/opt/amazon/bin', 'SAGEMAKER_HTTP_PORT': '8080', 'HOME': '/root', 'PYTHONUNBUFFERED': 'TRUE', 'CANONICAL_ENVROOT': '/opt/amazon', 'LD_LIBRARY_PATH': '/opt/amazon/lib/python2.7/site-packages/cv2/../../../../lib:/usr/local/nvidia/lib64:/opt/amazon/lib', 'MXNET_KVSTORE_BIGARRAY_BOUND': '400000000', 'LANG': 'en_US.utf8', 'DMLC_INTERFACE': 'eth0', 'SHLVL': '1', 'DMLC_PS_ROOT_URI': '10.0.218.100', 'AWS_REGION': 'us-east-2', 'SAGEMAKER_METRICS_DIRECTORY': '/opt/ml/output/metrics/sagemaker', 'NVIDIA_VISIBLE_DEVICES': 'void', 'TRAINING_JOB_NAME': 'randomcutforest-2020-11-09-20-40-13-188', 'PROTOCOL_BUFFERS_PYTHON_IMPLEMENTATION': 'cpp', 'ENVROOT': '/opt/amazon', 'SAGEMAKER_DATA_PATH': '/opt/ml', 'NVIDIA_DRIVER_CAPABILITIES': 'compute,utility', 'NVIDIA_REQUIRE_CUDA': 'cuda>=9.0', 'OMP_NUM_THREADS': '2', 'HOSTNAME': 'ip-10-0-218-100.us-east-2.compute.internal', 'AWS_CONTAINER_CREDENTIALS_RELATIVE_URI': '/v2/credentials/48b1020b-1901-48e1-b05f-25db92d6a5f0', 'DMLC_ROLE': 'scheduler', 'PWD': '/', 'DMLC_NUM_SERVER': '1', 'TRAINING_JOB_ARN': 'arn:aws:sagemaker:us-east-2:602665643546:training-job/randomcutforest-2020-11-09-20-40-13-188', 'AWS_EXECUTION_ENV': 'AWS_ECS_EC2'}\u001b[0m\n",
      "\u001b[34m[11/09/2020 20:43:21 INFO 140519099184960] Launching parameter server for role server\u001b[0m\n",
      "\u001b[34m[11/09/2020 20:43:21 INFO 140519099184960] {'ECS_CONTAINER_METADATA_URI': 'http://169.254.170.2/v3/c2daff37-de98-4114-89f8-3c0e6d66c91a', 'ECS_CONTAINER_METADATA_URI_V4': 'http://169.254.170.2/v4/c2daff37-de98-4114-89f8-3c0e6d66c91a', 'PROTOCOL_BUFFERS_PYTHON_IMPLEMENTATION_VERSION': '2', 'PATH': '/opt/amazon/bin:/usr/local/nvidia/bin:/usr/local/sbin:/usr/local/bin:/usr/sbin:/usr/bin:/sbin:/bin:/opt/amazon/bin:/opt/amazon/bin', 'SAGEMAKER_HTTP_PORT': '8080', 'HOME': '/root', 'PYTHONUNBUFFERED': 'TRUE', 'CANONICAL_ENVROOT': '/opt/amazon', 'LD_LIBRARY_PATH': '/opt/amazon/lib/python2.7/site-packages/cv2/../../../../lib:/usr/local/nvidia/lib64:/opt/amazon/lib', 'MXNET_KVSTORE_BIGARRAY_BOUND': '400000000', 'LANG': 'en_US.utf8', 'DMLC_INTERFACE': 'eth0', 'SHLVL': '1', 'AWS_REGION': 'us-east-2', 'SAGEMAKER_METRICS_DIRECTORY': '/opt/ml/output/metrics/sagemaker', 'NVIDIA_VISIBLE_DEVICES': 'void', 'TRAINING_JOB_NAME': 'randomcutforest-2020-11-09-20-40-13-188', 'PROTOCOL_BUFFERS_PYTHON_IMPLEMENTATION': 'cpp', 'ENVROOT': '/opt/amazon', 'SAGEMAKER_DATA_PATH': '/opt/ml', 'NVIDIA_DRIVER_CAPABILITIES': 'compute,utility', 'NVIDIA_REQUIRE_CUDA': 'cuda>=9.0', 'OMP_NUM_THREADS': '2', 'HOSTNAME': 'ip-10-0-218-100.us-east-2.compute.internal', 'AWS_CONTAINER_CREDENTIALS_RELATIVE_URI': '/v2/credentials/48b1020b-1901-48e1-b05f-25db92d6a5f0', 'PWD': '/', 'TRAINING_JOB_ARN': 'arn:aws:sagemaker:us-east-2:602665643546:training-job/randomcutforest-2020-11-09-20-40-13-188', 'AWS_EXECUTION_ENV': 'AWS_ECS_EC2'}\u001b[0m\n",
      "\u001b[34m[11/09/2020 20:43:21 INFO 140519099184960] envs={'ECS_CONTAINER_METADATA_URI': 'http://169.254.170.2/v3/c2daff37-de98-4114-89f8-3c0e6d66c91a', 'ECS_CONTAINER_METADATA_URI_V4': 'http://169.254.170.2/v4/c2daff37-de98-4114-89f8-3c0e6d66c91a', 'PROTOCOL_BUFFERS_PYTHON_IMPLEMENTATION_VERSION': '2', 'DMLC_NUM_WORKER': '1', 'DMLC_PS_ROOT_PORT': '9000', 'PATH': '/opt/amazon/bin:/usr/local/nvidia/bin:/usr/local/sbin:/usr/local/bin:/usr/sbin:/usr/bin:/sbin:/bin:/opt/amazon/bin:/opt/amazon/bin', 'SAGEMAKER_HTTP_PORT': '8080', 'HOME': '/root', 'PYTHONUNBUFFERED': 'TRUE', 'CANONICAL_ENVROOT': '/opt/amazon', 'LD_LIBRARY_PATH': '/opt/amazon/lib/python2.7/site-packages/cv2/../../../../lib:/usr/local/nvidia/lib64:/opt/amazon/lib', 'MXNET_KVSTORE_BIGARRAY_BOUND': '400000000', 'LANG': 'en_US.utf8', 'DMLC_INTERFACE': 'eth0', 'SHLVL': '1', 'DMLC_PS_ROOT_URI': '10.0.218.100', 'AWS_REGION': 'us-east-2', 'SAGEMAKER_METRICS_DIRECTORY': '/opt/ml/output/metrics/sagemaker', 'NVIDIA_VISIBLE_DEVICES': 'void', 'TRAINING_JOB_NAME': 'randomcutforest-2020-11-09-20-40-13-188', 'PROTOCOL_BUFFERS_PYTHON_IMPLEMENTATION': 'cpp', 'ENVROOT': '/opt/amazon', 'SAGEMAKER_DATA_PATH': '/opt/ml', 'NVIDIA_DRIVER_CAPABILITIES': 'compute,utility', 'NVIDIA_REQUIRE_CUDA': 'cuda>=9.0', 'OMP_NUM_THREADS': '2', 'HOSTNAME': 'ip-10-0-218-100.us-east-2.compute.internal', 'AWS_CONTAINER_CREDENTIALS_RELATIVE_URI': '/v2/credentials/48b1020b-1901-48e1-b05f-25db92d6a5f0', 'DMLC_ROLE': 'server', 'PWD': '/', 'DMLC_NUM_SERVER': '1', 'TRAINING_JOB_ARN': 'arn:aws:sagemaker:us-east-2:602665643546:training-job/randomcutforest-2020-11-09-20-40-13-188', 'AWS_EXECUTION_ENV': 'AWS_ECS_EC2'}\u001b[0m\n",
      "\u001b[34m[11/09/2020 20:43:21 INFO 140519099184960] Environment: {'ECS_CONTAINER_METADATA_URI': 'http://169.254.170.2/v3/c2daff37-de98-4114-89f8-3c0e6d66c91a', 'ECS_CONTAINER_METADATA_URI_V4': 'http://169.254.170.2/v4/c2daff37-de98-4114-89f8-3c0e6d66c91a', 'PROTOCOL_BUFFERS_PYTHON_IMPLEMENTATION_VERSION': '2', 'DMLC_PS_ROOT_PORT': '9000', 'DMLC_NUM_WORKER': '1', 'SAGEMAKER_HTTP_PORT': '8080', 'PATH': '/opt/amazon/bin:/usr/local/nvidia/bin:/usr/local/sbin:/usr/local/bin:/usr/sbin:/usr/bin:/sbin:/bin:/opt/amazon/bin:/opt/amazon/bin', 'PYTHONUNBUFFERED': 'TRUE', 'CANONICAL_ENVROOT': '/opt/amazon', 'LD_LIBRARY_PATH': '/opt/amazon/lib/python2.7/site-packages/cv2/../../../../lib:/usr/local/nvidia/lib64:/opt/amazon/lib', 'MXNET_KVSTORE_BIGARRAY_BOUND': '400000000', 'LANG': 'en_US.utf8', 'DMLC_INTERFACE': 'eth0', 'SHLVL': '1', 'DMLC_PS_ROOT_URI': '10.0.218.100', 'AWS_REGION': 'us-east-2', 'SAGEMAKER_METRICS_DIRECTORY': '/opt/ml/output/metrics/sagemaker', 'NVIDIA_VISIBLE_DEVICES': 'void', 'TRAINING_JOB_NAME': 'randomcutforest-2020-11-09-20-40-13-188', 'HOME': '/root', 'PROTOCOL_BUFFERS_PYTHON_IMPLEMENTATION': 'cpp', 'ENVROOT': '/opt/amazon', 'SAGEMAKER_DATA_PATH': '/opt/ml', 'NVIDIA_DRIVER_CAPABILITIES': 'compute,utility', 'NVIDIA_REQUIRE_CUDA': 'cuda>=9.0', 'OMP_NUM_THREADS': '2', 'HOSTNAME': 'ip-10-0-218-100.us-east-2.compute.internal', 'AWS_CONTAINER_CREDENTIALS_RELATIVE_URI': '/v2/credentials/48b1020b-1901-48e1-b05f-25db92d6a5f0', 'DMLC_ROLE': 'worker', 'PWD': '/', 'DMLC_NUM_SERVER': '1', 'TRAINING_JOB_ARN': 'arn:aws:sagemaker:us-east-2:602665643546:training-job/randomcutforest-2020-11-09-20-40-13-188', 'AWS_EXECUTION_ENV': 'AWS_ECS_EC2'}\u001b[0m\n",
      "\u001b[34mProcess 32 is a shell:scheduler.\u001b[0m\n",
      "\u001b[34mProcess 33 is a shell:server.\u001b[0m\n",
      "\u001b[34mProcess 1 is a worker.\u001b[0m\n",
      "\u001b[34m[11/09/2020 20:43:21 INFO 140519099184960] Using default worker.\u001b[0m\n",
      "\u001b[34m[11/09/2020 20:43:21 INFO 140519099184960] Loaded iterator creator application/x-recordio-protobuf for content type ('application/x-recordio-protobuf', '1.0')\u001b[0m\n",
      "\u001b[34m[11/09/2020 20:43:21 INFO 140519099184960] Checkpoint loading and saving are disabled.\u001b[0m\n",
      "\u001b[34m[11/09/2020 20:43:21 INFO 140519099184960] Verifying hyperparamemters...\u001b[0m\n",
      "\u001b[34m[11/09/2020 20:43:21 INFO 140519099184960] Hyperparameters are correct.\u001b[0m\n",
      "\u001b[34m[11/09/2020 20:43:21 INFO 140519099184960] Validating that feature_dim agrees with dimensions in training data...\u001b[0m\n",
      "\u001b[34m[11/09/2020 20:43:21 INFO 140519099184960] feature_dim is correct.\u001b[0m\n",
      "\u001b[34m[11/09/2020 20:43:21 INFO 140519099184960] Validating memory limits...\u001b[0m\n",
      "\u001b[34m[11/09/2020 20:43:21 INFO 140519099184960] Available memory in bytes: 15271190528\u001b[0m\n",
      "\u001b[34m[11/09/2020 20:43:21 INFO 140519099184960] Estimated sample size in bytes: 16000000\u001b[0m\n",
      "\u001b[34m[11/09/2020 20:43:21 INFO 140519099184960] Estimated memory needed to build the forest in bytes: 40000000\u001b[0m\n",
      "\u001b[34m[11/09/2020 20:43:21 INFO 140519099184960] Memory limits validated.\u001b[0m\n",
      "\u001b[34m[11/09/2020 20:43:21 INFO 140519099184960] Starting cluster sharing facilities...\u001b[0m\n",
      "\u001b[34m[11/09/2020 20:43:21 INFO 140519099184960] Create Store: dist_async\u001b[0m\n",
      "\u001b[34m[I 20-11-09 20:43:21] >>> starting FTP server on 0.0.0.0:8999, pid=1 <<<\u001b[0m\n",
      "\u001b[34m[11/09/2020 20:43:21 INFO 140517631321856] >>> starting FTP server on 0.0.0.0:8999, pid=1 <<<\u001b[0m\n",
      "\u001b[34m[I 20-11-09 20:43:21] poller: <class 'pyftpdlib.ioloop.Epoll'>\u001b[0m\n",
      "\u001b[34m[11/09/2020 20:43:21 INFO 140517631321856] poller: <class 'pyftpdlib.ioloop.Epoll'>\u001b[0m\n",
      "\u001b[34m[I 20-11-09 20:43:21] masquerade (NAT) address: None\u001b[0m\n",
      "\u001b[34m[11/09/2020 20:43:21 INFO 140517631321856] masquerade (NAT) address: None\u001b[0m\n",
      "\u001b[34m[I 20-11-09 20:43:21] passive ports: None\u001b[0m\n",
      "\u001b[34m[11/09/2020 20:43:21 INFO 140517631321856] passive ports: None\u001b[0m\n",
      "\u001b[34m[I 20-11-09 20:43:21] use sendfile(2): False\u001b[0m\n",
      "\u001b[34m[11/09/2020 20:43:21 INFO 140517631321856] use sendfile(2): False\u001b[0m\n",
      "\u001b[34m[11/09/2020 20:43:22 INFO 140519099184960] Cluster sharing facilities started.\u001b[0m\n",
      "\u001b[34m[11/09/2020 20:43:22 INFO 140519099184960] Verifying all workers are accessible...\u001b[0m\n",
      "\u001b[34m[11/09/2020 20:43:22 INFO 140519099184960] All workers accessible.\u001b[0m\n",
      "\u001b[34m[11/09/2020 20:43:22 INFO 140519099184960] Initializing Sampler...\u001b[0m\n",
      "\u001b[34m[11/09/2020 20:43:22 INFO 140519099184960] Sampler correctly initialized.\u001b[0m\n",
      "\u001b[34m#metrics {\"Metrics\": {\"initialize.time\": {\"count\": 1, \"max\": 812.7739429473877, \"sum\": 812.7739429473877, \"min\": 812.7739429473877}}, \"EndTime\": 1604954602.735294, \"Dimensions\": {\"Host\": \"algo-1\", \"Operation\": \"training\", \"Algorithm\": \"RandomCutForest\"}, \"StartTime\": 1604954601.912345}\n",
      "\u001b[0m\n",
      "\u001b[34m#metrics {\"Metrics\": {\"Max Batches Seen Between Resets\": {\"count\": 1, \"max\": 0, \"sum\": 0.0, \"min\": 0}, \"Number of Batches Since Last Reset\": {\"count\": 1, \"max\": 0, \"sum\": 0.0, \"min\": 0}, \"Number of Records Since Last Reset\": {\"count\": 1, \"max\": 0, \"sum\": 0.0, \"min\": 0}, \"Total Batches Seen\": {\"count\": 1, \"max\": 0, \"sum\": 0.0, \"min\": 0}, \"Total Records Seen\": {\"count\": 1, \"max\": 0, \"sum\": 0.0, \"min\": 0}, \"Max Records Seen Between Resets\": {\"count\": 1, \"max\": 0, \"sum\": 0.0, \"min\": 0}, \"Reset Count\": {\"count\": 1, \"max\": 0, \"sum\": 0.0, \"min\": 0}}, \"EndTime\": 1604954602.735523, \"Dimensions\": {\"Host\": \"algo-1\", \"Meta\": \"init_train_data_iter\", \"Operation\": \"training\", \"Algorithm\": \"RandomCutForest\"}, \"StartTime\": 1604954602.73548}\n",
      "\u001b[0m\n",
      "\u001b[34m[2020-11-09 20:43:22.736] [tensorio] [info] epoch_stats={\"data_pipeline\": \"/opt/ml/input/data/train\", \"epoch\": 0, \"duration\": 822, \"num_examples\": 1, \"num_bytes\": 64000}\u001b[0m\n",
      "\u001b[34m[11/09/2020 20:43:22 INFO 140519099184960] Sampling training data...\u001b[0m\n",
      "\u001b[34m[2020-11-09 20:43:22.869] [tensorio] [info] epoch_stats={\"data_pipeline\": \"/opt/ml/input/data/train\", \"epoch\": 1, \"duration\": 133, \"num_examples\": 88, \"num_bytes\": 5632000}\u001b[0m\n",
      "\u001b[34m[11/09/2020 20:43:22 INFO 140519099184960] Sampling training data completed.\u001b[0m\n",
      "\u001b[34m#metrics {\"Metrics\": {\"epochs\": {\"count\": 1, \"max\": 1, \"sum\": 1.0, \"min\": 1}, \"update.time\": {\"count\": 1, \"max\": 141.63517951965332, \"sum\": 141.63517951965332, \"min\": 141.63517951965332}}, \"EndTime\": 1604954602.877783, \"Dimensions\": {\"Host\": \"algo-1\", \"Operation\": \"training\", \"Algorithm\": \"RandomCutForest\"}, \"StartTime\": 1604954602.735407}\n",
      "\u001b[0m\n",
      "\u001b[34m[11/09/2020 20:43:22 INFO 140519099184960] Early stop condition met. Stopping training.\u001b[0m\n",
      "\u001b[34m[11/09/2020 20:43:22 INFO 140519099184960] #progress_metric: host=algo-1, completed 100 % epochs\u001b[0m\n",
      "\u001b[34m#metrics {\"Metrics\": {\"Max Batches Seen Between Resets\": {\"count\": 1, \"max\": 88, \"sum\": 88.0, \"min\": 88}, \"Number of Batches Since Last Reset\": {\"count\": 1, \"max\": 88, \"sum\": 88.0, \"min\": 88}, \"Number of Records Since Last Reset\": {\"count\": 1, \"max\": 88000, \"sum\": 88000.0, \"min\": 88000}, \"Total Batches Seen\": {\"count\": 1, \"max\": 88, \"sum\": 88.0, \"min\": 88}, \"Total Records Seen\": {\"count\": 1, \"max\": 88000, \"sum\": 88000.0, \"min\": 88000}, \"Max Records Seen Between Resets\": {\"count\": 1, \"max\": 88000, \"sum\": 88000.0, \"min\": 88000}, \"Reset Count\": {\"count\": 1, \"max\": 1, \"sum\": 1.0, \"min\": 1}}, \"EndTime\": 1604954602.878171, \"Dimensions\": {\"Host\": \"algo-1\", \"Meta\": \"training_data_iter\", \"Operation\": \"training\", \"Algorithm\": \"RandomCutForest\", \"epoch\": 0}, \"StartTime\": 1604954602.736109}\n",
      "\u001b[0m\n",
      "\u001b[34m[11/09/2020 20:43:22 INFO 140519099184960] #throughput_metric: host=algo-1, train throughput=618860.213575 records/second\u001b[0m\n",
      "\u001b[34m[11/09/2020 20:43:22 INFO 140519099184960] Master node: building Random Cut Forest...\u001b[0m\n",
      "\u001b[34m[11/09/2020 20:43:22 INFO 140519099184960] Gathering samples...\u001b[0m\n",
      "\u001b[34m[11/09/2020 20:43:22 INFO 140519099184960] 88000 samples gathered\u001b[0m\n",
      "\u001b[34m[11/09/2020 20:43:22 INFO 140519099184960] Building Random Cut Forest...\u001b[0m\n",
      "\u001b[34m[11/09/2020 20:43:23 INFO 140519099184960] Random Cut Forest built: \n",
      "\u001b[0m\n",
      "\u001b[34mForestInfo{num_trees: 200, num_samples_in_forest: 88000, num_samples_per_tree: 440, sample_dim: 5, shingle_size: 1, trees_num_nodes: [879, 879, 879, 879, 879, 879, 879, 879, 879, 879, 879, 879, 879, 879, 879, 879, 879, 879, 879, 879, 879, 879, 879, 879, 879, 879, 879, 879, 879, 879, 879, 879, 879, 879, 879, 879, 879, 879, 879, 879, 879, 879, 879, 879, 879, 879, 879, 879, 879, 879, 879, 879, 879, 879, 879, 879, 879, 879, 879, 879, 879, 879, 879, 879, 879, 879, 879, 879, 879, 879, 879, 879, 879, 879, 879, 879, 879, 879, 879, 879, 879, 879, 879, 879, 879, 879, 879, 879, 879, 879, 879, 879, 879, 879, 879, 879, 879, 879, 879, 879, 879, 879, 879, 879, 879, 879, 879, 879, 879, 879, 879, 879, 879, 879, 879, 879, 879, 879, 879, 879, 879, 879, 879, 879, 879, 879, 879, 879, 879, 879, 879, 879, 879, 879, 879, 879, 879, 879, 879, 879, 879, 879, 879, 879, 879, 879, 879, 879, 879, 879, 879, 879, 879, 879, 879, 879, 879, 879, 879, 879, 879, 879, 879, 879, 879, 879, 879, 879, 879, 879, 879, 879, 879, 879, 879, 879, 879, 879, 879, 879, 879, 879, 879, 879, 879, 879, 879, 879, 879, 879, 879, 879, 879, 879, 879, 879, 879, 879, 879, 879, ], trees_depth: [25, 24, 24, 27, 20, 25, 23, 29, 23, 26, 21, 23, 26, 20, 26, 27, 26, 28, 27, 27, 26, 22, 23, 29, 24, 24, 23, 27, 28, 29, 27, 22, 22, 27, 32, 23, 26, 22, 22, 25, 27, 30, 27, 23, 26, 26, 26, 25, 26, 25, 26, 24, 27, 23, 28, 24, 28, 21, 20, 26, 28, 22, 24, 23, 24, 28, 24, 22, 31, 25, 25, 24, 26, 26, 25, 23, 28, 24, 23, 20, 24, 30, 28, 26, 28, 24, 24, 30, 27, 25, 24, 22, 24, 24, 28, 20, 21, 21, 23, 26, 23, 27, 26, 23, 23, 23, 18, 26, 25, 27, 26, 27, 24, 27, 23, 27, 24, 24, 21, 22, 30, 25, 22, 21, 23, 24, 30, 25, 23, 19, 27, 29, 25, 22, 25, 29, 27, 21, 23, 26, 27, 26, 24, 22, 27, 24, 26, 21, 25, 27, 24, 24, 27, 24, 28, 24, 28, 30, 27, 25, 24, 26, 27, 27, 26, 24, 25, 24, 26, 27, 26, 26, 26, 29, 31, 25, 26, 20, 25, 24, 27, 23, 28, 27, 25, 22, 23, 27, 27, 22, 28, 23, 26, 29, 28, 25, 25, 22, 22, 27, ], max_num_nodes: 879, min_num_nodes: 879, avg_num_nodes: 879, max_tree_depth: 32, min_tree_depth: 18, avg_tree_depth: 25, mem_size: 29536048}\u001b[0m\n",
      "\u001b[34m#metrics {\"Metrics\": {\"finalize.time\": {\"count\": 1, \"max\": 232.33985900878906, \"sum\": 232.33985900878906, \"min\": 232.33985900878906}, \"model.bytes\": {\"count\": 1, \"max\": 29536048, \"sum\": 29536048.0, \"min\": 29536048}, \"fit_model.time\": {\"count\": 1, \"max\": 92.31209754943848, \"sum\": 92.31209754943848, \"min\": 92.31209754943848}}, \"EndTime\": 1604954603.110871, \"Dimensions\": {\"Host\": \"algo-1\", \"Operation\": \"training\", \"Algorithm\": \"RandomCutForest\"}, \"StartTime\": 1604954602.877879}\n",
      "\u001b[0m\n",
      "\u001b[34m[11/09/2020 20:43:23 INFO 140519099184960] Master node: Serializing the RandomCutForest model\u001b[0m\n",
      "\u001b[34m#metrics {\"Metrics\": {\"serialize_model.time\": {\"count\": 1, \"max\": 336.62986755371094, \"sum\": 336.62986755371094, \"min\": 336.62986755371094}}, \"EndTime\": 1604954603.44767, \"Dimensions\": {\"Host\": \"algo-1\", \"Operation\": \"training\", \"Algorithm\": \"RandomCutForest\"}, \"StartTime\": 1604954603.110985}\n",
      "\u001b[0m\n",
      "\u001b[34m[11/09/2020 20:43:23 INFO 140519099184960] Test data is not provided.\u001b[0m\n",
      "\u001b[34m[I 20-11-09 20:43:23] >>> shutting down FTP server (0 active fds) <<<\u001b[0m\n",
      "\u001b[34m[11/09/2020 20:43:23 INFO 140517631321856] >>> shutting down FTP server (0 active fds) <<<\u001b[0m\n",
      "\u001b[34m#metrics {\"Metrics\": {\"totaltime\": {\"count\": 1, \"max\": 1690.0498867034912, \"sum\": 1690.0498867034912, \"min\": 1690.0498867034912}, \"setuptime\": {\"count\": 1, \"max\": 22.296905517578125, \"sum\": 22.296905517578125, \"min\": 22.296905517578125}}, \"EndTime\": 1604954603.567435, \"Dimensions\": {\"Host\": \"algo-1\", \"Operation\": \"training\", \"Algorithm\": \"RandomCutForest\"}, \"StartTime\": 1604954603.447754}\n",
      "\u001b[0m\n",
      "\n",
      "2020-11-09 20:43:31 Uploading - Uploading generated training model\n",
      "2020-11-09 20:43:31 Completed - Training job completed\n",
      "Training seconds: 66\n",
      "Billable seconds: 66\n"
     ]
    }
   ],
   "source": [
    "from sagemaker import RandomCutForest\n",
    "\n",
    "session = sagemaker.Session()\n",
    "\n",
    "# specify general training job information\n",
    "rcf = RandomCutForest(role=execution_role,\n",
    "                      train_instance_count=1,\n",
    "                      train_instance_type='ml.m4.xlarge',\n",
    "                      data_location='s3://{}/{}/'.format(bucket, prefix),\n",
    "                      output_path='s3://{}/{}/output'.format(bucket, prefix),\n",
    "                      num_samples_per_tree=tree_size,\n",
    "                      num_trees=num_trees)\n",
    "\n",
    "# automatically upload the training data to S3 and run the training job\n",
    "rcf.fit(rcf.record_set(txn_data_train_numpy))"
   ]
  },
  {
   "cell_type": "code",
   "execution_count": 14,
   "metadata": {},
   "outputs": [
    {
     "name": "stdout",
     "output_type": "stream",
     "text": [
      "Training job name: randomcutforest-2020-11-09-20-40-13-188\n"
     ]
    }
   ],
   "source": [
    "training_job_name = rcf.latest_training_job.job_name\n",
    "print('Training job name: {}'.format(training_job_name))"
   ]
  },
  {
   "cell_type": "code",
   "execution_count": 15,
   "metadata": {},
   "outputs": [
    {
     "name": "stderr",
     "output_type": "stream",
     "text": [
      "Parameter image will be renamed to image_uri in SageMaker Python SDK v2.\n"
     ]
    },
    {
     "name": "stdout",
     "output_type": "stream",
     "text": [
      "---------------!"
     ]
    }
   ],
   "source": [
    "rcf_inference = rcf.deploy(\n",
    "    initial_instance_count=1,\n",
    "    instance_type='ml.m4.xlarge',\n",
    ")"
   ]
  },
  {
   "cell_type": "code",
   "execution_count": 16,
   "metadata": {},
   "outputs": [
    {
     "name": "stdout",
     "output_type": "stream",
     "text": [
      "Endpoint name: randomcutforest-2020-11-09-20-40-13-188\n"
     ]
    }
   ],
   "source": [
    "print('Endpoint name: {}'.format(rcf_inference.endpoint))"
   ]
  },
  {
   "cell_type": "code",
   "execution_count": 17,
   "metadata": {},
   "outputs": [],
   "source": [
    "from sagemaker.predictor import csv_serializer, json_deserializer\n",
    "\n",
    "rcf_inference.content_type = 'text/csv'\n",
    "rcf_inference.serializer = csv_serializer\n",
    "rcf_inference.accept = 'application/json'\n",
    "rcf_inference.deserializer = json_deserializer"
   ]
  },
  {
   "cell_type": "code",
   "execution_count": 18,
   "metadata": {},
   "outputs": [],
   "source": [
    "results = rcf_inference.predict(txn_data_train_numpy)\n",
    "scores = [datum['score'] for datum in results['scores']]"
   ]
  },
  {
   "cell_type": "code",
   "execution_count": 19,
   "metadata": {},
   "outputs": [
    {
     "data": {
      "text/plain": [
       "count    88000.000000\n",
       "mean         0.702429\n",
       "std          0.199211\n",
       "min          0.490593\n",
       "25%          0.578808\n",
       "50%          0.642927\n",
       "75%          0.754937\n",
       "max          3.218048\n",
       "dtype: float64"
      ]
     },
     "execution_count": 19,
     "metadata": {},
     "output_type": "execute_result"
    }
   ],
   "source": [
    "scores = pd.Series(scores, index=txn_data_train.index)\n",
    "scores.describe()"
   ]
  },
  {
   "cell_type": "code",
   "execution_count": 20,
   "metadata": {},
   "outputs": [
    {
     "data": {
      "text/plain": [
       "0.8538794868152556"
      ]
     },
     "execution_count": 20,
     "metadata": {},
     "output_type": "execute_result"
    }
   ],
   "source": [
    "scores_normalized = ((scores - scores.min())\n",
    "              / (scores.max() - scores.min()))\n",
    "\n",
    "roc_auc_score(y_true_train, scores_normalized)"
   ]
  },
  {
   "cell_type": "code",
   "execution_count": 21,
   "metadata": {},
   "outputs": [],
   "source": [
    "results = rcf_inference.predict(txn_data_test_numpy)\n",
    "scores = [datum['score'] for datum in results['scores']]"
   ]
  },
  {
   "cell_type": "code",
   "execution_count": 22,
   "metadata": {},
   "outputs": [
    {
     "data": {
      "text/plain": [
       "count    22000.000000\n",
       "mean         0.701673\n",
       "std          0.198797\n",
       "min          0.488803\n",
       "25%          0.579630\n",
       "50%          0.642752\n",
       "75%          0.753432\n",
       "max          3.290250\n",
       "dtype: float64"
      ]
     },
     "execution_count": 22,
     "metadata": {},
     "output_type": "execute_result"
    }
   ],
   "source": [
    "scores = pd.Series(scores, index=y_true_test.index)\n",
    "scores.describe()"
   ]
  },
  {
   "cell_type": "code",
   "execution_count": 23,
   "metadata": {},
   "outputs": [
    {
     "data": {
      "text/plain": [
       "0.8594034179760739"
      ]
     },
     "execution_count": 23,
     "metadata": {},
     "output_type": "execute_result"
    }
   ],
   "source": [
    "scores_normalized = ((scores - scores.min())\n",
    "              / (scores.max() - scores.min()))\n",
    "\n",
    "roc_auc_score(y_true_test, scores_normalized)"
   ]
  },
  {
   "cell_type": "markdown",
   "metadata": {},
   "source": [
    "Uncomment the line below if you want to delete the endpoint"
   ]
  },
  {
   "cell_type": "code",
   "execution_count": 25,
   "metadata": {},
   "outputs": [],
   "source": [
    "#sagemaker.Session().delete_endpoint(rcf_inference.endpoint)"
   ]
  },
  {
   "cell_type": "code",
   "execution_count": null,
   "metadata": {},
   "outputs": [],
   "source": []
  },
  {
   "cell_type": "code",
   "execution_count": null,
   "metadata": {},
   "outputs": [],
   "source": []
  },
  {
   "cell_type": "code",
   "execution_count": null,
   "metadata": {},
   "outputs": [],
   "source": []
  },
  {
   "cell_type": "code",
   "execution_count": null,
   "metadata": {},
   "outputs": [],
   "source": []
  }
 ],
 "metadata": {
  "kernelspec": {
   "display_name": "conda_mxnet_p36",
   "language": "python",
   "name": "conda_mxnet_p36"
  },
  "language_info": {
   "codemirror_mode": {
    "name": "ipython",
    "version": 3
   },
   "file_extension": ".py",
   "mimetype": "text/x-python",
   "name": "python",
   "nbconvert_exporter": "python",
   "pygments_lexer": "ipython3",
   "version": "3.6.10"
  }
 },
 "nbformat": 4,
 "nbformat_minor": 4
}
